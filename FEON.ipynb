{
  "nbformat": 4,
  "nbformat_minor": 0,
  "metadata": {
    "colab": {
      "name": "FEON.ipynb",
      "provenance": [],
      "collapsed_sections": []
    },
    "kernelspec": {
      "name": "python3",
      "display_name": "Python 3"
    },
    "language_info": {
      "name": "python"
    }
  },
  "cells": [
    {
      "cell_type": "code",
      "metadata": {
        "id": "KaDOtC3VHjS_"
      },
      "source": [
        "import numpy as np\n",
        "import pandas as pd\n",
        "import seaborn as sns\n",
        "import matplotlib.pyplot as plt\n",
        "import statsmodels.api as sm\n",
        "from statsmodels.stats.outliers_influence import variance_inflation_factor\n",
        "from math import log"
      ],
      "execution_count": null,
      "outputs": []
    },
    {
      "cell_type": "code",
      "metadata": {
        "id": "-a_lDgtQKyUV"
      },
      "source": [
        "main_dataset = pd.read_csv(\"/Bitcoin_dataset_updated.csv\")\n",
        "block_size=pd.read_csv(\"/blocks-size.csv\")\n",
        "repo_rate=pd.read_csv(\"/repo rate.csv\")"
      ],
      "execution_count": null,
      "outputs": []
    },
    {
      "cell_type": "code",
      "metadata": {
        "colab": {
          "base_uri": "https://localhost:8080/",
          "height": 306
        },
        "id": "GH3ADA06LBcg",
        "outputId": "8090dede-98f5-4718-af4f-cd3b883510f1"
      },
      "source": [
        "main_dataset.head()"
      ],
      "execution_count": null,
      "outputs": [
        {
          "output_type": "execute_result",
          "data": {
            "text/html": [
              "<div>\n",
              "<style scoped>\n",
              "    .dataframe tbody tr th:only-of-type {\n",
              "        vertical-align: middle;\n",
              "    }\n",
              "\n",
              "    .dataframe tbody tr th {\n",
              "        vertical-align: top;\n",
              "    }\n",
              "\n",
              "    .dataframe thead th {\n",
              "        text-align: right;\n",
              "    }\n",
              "</style>\n",
              "<table border=\"1\" class=\"dataframe\">\n",
              "  <thead>\n",
              "    <tr style=\"text-align: right;\">\n",
              "      <th></th>\n",
              "      <th>Date</th>\n",
              "      <th>BTC price [USD]</th>\n",
              "      <th>n-transactions</th>\n",
              "      <th>fee [USD]</th>\n",
              "      <th>btc search trends</th>\n",
              "      <th>Gold price[USD]</th>\n",
              "      <th>SP500 close index</th>\n",
              "      <th>Oil WTI price[USD]</th>\n",
              "      <th>M2(Not seasonally adjusted)[1e+09 USD]</th>\n",
              "    </tr>\n",
              "  </thead>\n",
              "  <tbody>\n",
              "    <tr>\n",
              "      <th>0</th>\n",
              "      <td>2014-01-02</td>\n",
              "      <td>749.27</td>\n",
              "      <td>54770.0</td>\n",
              "      <td>0.18</td>\n",
              "      <td>8</td>\n",
              "      <td>1225.0</td>\n",
              "      <td>1831.98</td>\n",
              "      <td>95.14</td>\n",
              "      <td>11089.3</td>\n",
              "    </tr>\n",
              "    <tr>\n",
              "      <th>1</th>\n",
              "      <td>2014-01-03</td>\n",
              "      <td>781.23</td>\n",
              "      <td>60980.0</td>\n",
              "      <td>NaN</td>\n",
              "      <td>8</td>\n",
              "      <td>1238.4</td>\n",
              "      <td>1831.37</td>\n",
              "      <td>93.66</td>\n",
              "      <td>11089.3</td>\n",
              "    </tr>\n",
              "    <tr>\n",
              "      <th>2</th>\n",
              "      <td>2014-01-04</td>\n",
              "      <td>807.39</td>\n",
              "      <td>52052.0</td>\n",
              "      <td>NaN</td>\n",
              "      <td>8</td>\n",
              "      <td>NaN</td>\n",
              "      <td>NaN</td>\n",
              "      <td>NaN</td>\n",
              "      <td>11089.3</td>\n",
              "    </tr>\n",
              "    <tr>\n",
              "      <th>3</th>\n",
              "      <td>2014-01-05</td>\n",
              "      <td>828.74</td>\n",
              "      <td>58662.0</td>\n",
              "      <td>0.38</td>\n",
              "      <td>8</td>\n",
              "      <td>NaN</td>\n",
              "      <td>NaN</td>\n",
              "      <td>NaN</td>\n",
              "      <td>11089.3</td>\n",
              "    </tr>\n",
              "    <tr>\n",
              "      <th>4</th>\n",
              "      <td>2014-01-06</td>\n",
              "      <td>904.98</td>\n",
              "      <td>67358.0</td>\n",
              "      <td>NaN</td>\n",
              "      <td>8</td>\n",
              "      <td>1237.8</td>\n",
              "      <td>1826.77</td>\n",
              "      <td>93.12</td>\n",
              "      <td>11089.3</td>\n",
              "    </tr>\n",
              "  </tbody>\n",
              "</table>\n",
              "</div>"
            ],
            "text/plain": [
              "         Date  ...  M2(Not seasonally adjusted)[1e+09 USD]\n",
              "0  2014-01-02  ...                                 11089.3\n",
              "1  2014-01-03  ...                                 11089.3\n",
              "2  2014-01-04  ...                                 11089.3\n",
              "3  2014-01-05  ...                                 11089.3\n",
              "4  2014-01-06  ...                                 11089.3\n",
              "\n",
              "[5 rows x 9 columns]"
            ]
          },
          "metadata": {
            "tags": []
          },
          "execution_count": 97
        }
      ]
    },
    {
      "cell_type": "code",
      "metadata": {
        "colab": {
          "base_uri": "https://localhost:8080/",
          "height": 204
        },
        "id": "ioFDU0MnTGFS",
        "outputId": "d7f5b049-8c55-488e-ba6b-a2b8dbee87df"
      },
      "source": [
        "block_size.head()"
      ],
      "execution_count": null,
      "outputs": [
        {
          "output_type": "execute_result",
          "data": {
            "text/html": [
              "<div>\n",
              "<style scoped>\n",
              "    .dataframe tbody tr th:only-of-type {\n",
              "        vertical-align: middle;\n",
              "    }\n",
              "\n",
              "    .dataframe tbody tr th {\n",
              "        vertical-align: top;\n",
              "    }\n",
              "\n",
              "    .dataframe thead th {\n",
              "        text-align: right;\n",
              "    }\n",
              "</style>\n",
              "<table border=\"1\" class=\"dataframe\">\n",
              "  <thead>\n",
              "    <tr style=\"text-align: right;\">\n",
              "      <th></th>\n",
              "      <th>2009-01-03 00:00:00</th>\n",
              "      <th>0.000285</th>\n",
              "    </tr>\n",
              "  </thead>\n",
              "  <tbody>\n",
              "    <tr>\n",
              "      <th>0</th>\n",
              "      <td>2009-01-11 00:00:00</td>\n",
              "      <td>0.016639</td>\n",
              "    </tr>\n",
              "    <tr>\n",
              "      <th>1</th>\n",
              "      <td>2009-01-14 00:00:00</td>\n",
              "      <td>0.085231</td>\n",
              "    </tr>\n",
              "    <tr>\n",
              "      <th>2</th>\n",
              "      <td>2009-01-17 00:00:00</td>\n",
              "      <td>0.167422</td>\n",
              "    </tr>\n",
              "    <tr>\n",
              "      <th>3</th>\n",
              "      <td>2009-01-20 00:00:00</td>\n",
              "      <td>0.241267</td>\n",
              "    </tr>\n",
              "    <tr>\n",
              "      <th>4</th>\n",
              "      <td>2009-01-23 00:00:00</td>\n",
              "      <td>0.310038</td>\n",
              "    </tr>\n",
              "  </tbody>\n",
              "</table>\n",
              "</div>"
            ],
            "text/plain": [
              "   2009-01-03 00:00:00  0.000285\n",
              "0  2009-01-11 00:00:00  0.016639\n",
              "1  2009-01-14 00:00:00  0.085231\n",
              "2  2009-01-17 00:00:00  0.167422\n",
              "3  2009-01-20 00:00:00  0.241267\n",
              "4  2009-01-23 00:00:00  0.310038"
            ]
          },
          "metadata": {
            "tags": []
          },
          "execution_count": 98
        }
      ]
    },
    {
      "cell_type": "code",
      "metadata": {
        "colab": {
          "base_uri": "https://localhost:8080/",
          "height": 204
        },
        "id": "yjGc6VNWTo_P",
        "outputId": "3b1245aa-e43c-46be-c5f8-f301773a8db9"
      },
      "source": [
        "block_size['date']=block_size['2009-01-03 00:00:00'].str[:10]\n",
        "block_size.drop('2009-01-03 00:00:00',axis=1,inplace=True)\n",
        "block_size.head()"
      ],
      "execution_count": null,
      "outputs": [
        {
          "output_type": "execute_result",
          "data": {
            "text/html": [
              "<div>\n",
              "<style scoped>\n",
              "    .dataframe tbody tr th:only-of-type {\n",
              "        vertical-align: middle;\n",
              "    }\n",
              "\n",
              "    .dataframe tbody tr th {\n",
              "        vertical-align: top;\n",
              "    }\n",
              "\n",
              "    .dataframe thead th {\n",
              "        text-align: right;\n",
              "    }\n",
              "</style>\n",
              "<table border=\"1\" class=\"dataframe\">\n",
              "  <thead>\n",
              "    <tr style=\"text-align: right;\">\n",
              "      <th></th>\n",
              "      <th>0.000285</th>\n",
              "      <th>date</th>\n",
              "    </tr>\n",
              "  </thead>\n",
              "  <tbody>\n",
              "    <tr>\n",
              "      <th>0</th>\n",
              "      <td>0.016639</td>\n",
              "      <td>2009-01-11</td>\n",
              "    </tr>\n",
              "    <tr>\n",
              "      <th>1</th>\n",
              "      <td>0.085231</td>\n",
              "      <td>2009-01-14</td>\n",
              "    </tr>\n",
              "    <tr>\n",
              "      <th>2</th>\n",
              "      <td>0.167422</td>\n",
              "      <td>2009-01-17</td>\n",
              "    </tr>\n",
              "    <tr>\n",
              "      <th>3</th>\n",
              "      <td>0.241267</td>\n",
              "      <td>2009-01-20</td>\n",
              "    </tr>\n",
              "    <tr>\n",
              "      <th>4</th>\n",
              "      <td>0.310038</td>\n",
              "      <td>2009-01-23</td>\n",
              "    </tr>\n",
              "  </tbody>\n",
              "</table>\n",
              "</div>"
            ],
            "text/plain": [
              "   0.000285        date\n",
              "0  0.016639  2009-01-11\n",
              "1  0.085231  2009-01-14\n",
              "2  0.167422  2009-01-17\n",
              "3  0.241267  2009-01-20\n",
              "4  0.310038  2009-01-23"
            ]
          },
          "metadata": {
            "tags": []
          },
          "execution_count": 99
        }
      ]
    },
    {
      "cell_type": "code",
      "metadata": {
        "id": "PUpSQJdLVIyv"
      },
      "source": [
        "repo_rate['repo rate'] = repo_rate['repo rate'].str.rstrip('%').astype('float') \n",
        "repo_rate.date = pd.to_datetime(repo_rate.date)"
      ],
      "execution_count": null,
      "outputs": []
    },
    {
      "cell_type": "code",
      "metadata": {
        "id": "I6LeKieke9bp"
      },
      "source": [
        "main_dataset.Date = pd.to_datetime(main_dataset.Date)\n",
        "block_size.date = pd.to_datetime(block_size.date)\n",
        "main_dataset.rename(columns={\"BTC price [USD]\":\"price\",\"Gold price\":\"gold_price\",\"SP500 close index\":\"index\",\"Oil WTI price[USD]\":\"oil_price\"}, inplace= True)"
      ],
      "execution_count": null,
      "outputs": []
    },
    {
      "cell_type": "code",
      "metadata": {
        "colab": {
          "base_uri": "https://localhost:8080/",
          "height": 306
        },
        "id": "babfpWRTWMfh",
        "outputId": "17fa5ac9-a456-4f1f-a426-08ca90f94dc8"
      },
      "source": [
        "df=main_dataset.merge(block_size, how='left',left_on='Date',right_on='date')\n",
        "df.head()"
      ],
      "execution_count": null,
      "outputs": [
        {
          "output_type": "execute_result",
          "data": {
            "text/html": [
              "<div>\n",
              "<style scoped>\n",
              "    .dataframe tbody tr th:only-of-type {\n",
              "        vertical-align: middle;\n",
              "    }\n",
              "\n",
              "    .dataframe tbody tr th {\n",
              "        vertical-align: top;\n",
              "    }\n",
              "\n",
              "    .dataframe thead th {\n",
              "        text-align: right;\n",
              "    }\n",
              "</style>\n",
              "<table border=\"1\" class=\"dataframe\">\n",
              "  <thead>\n",
              "    <tr style=\"text-align: right;\">\n",
              "      <th></th>\n",
              "      <th>Date</th>\n",
              "      <th>price</th>\n",
              "      <th>n-transactions</th>\n",
              "      <th>fee [USD]</th>\n",
              "      <th>btc search trends</th>\n",
              "      <th>Gold price[USD]</th>\n",
              "      <th>index</th>\n",
              "      <th>oil_price</th>\n",
              "      <th>M2(Not seasonally adjusted)[1e+09 USD]</th>\n",
              "      <th>0.000285</th>\n",
              "      <th>date</th>\n",
              "    </tr>\n",
              "  </thead>\n",
              "  <tbody>\n",
              "    <tr>\n",
              "      <th>0</th>\n",
              "      <td>2014-01-02</td>\n",
              "      <td>749.27</td>\n",
              "      <td>54770.0</td>\n",
              "      <td>0.18</td>\n",
              "      <td>8</td>\n",
              "      <td>1225.0</td>\n",
              "      <td>1831.98</td>\n",
              "      <td>95.14</td>\n",
              "      <td>11089.3</td>\n",
              "      <td>NaN</td>\n",
              "      <td>NaT</td>\n",
              "    </tr>\n",
              "    <tr>\n",
              "      <th>1</th>\n",
              "      <td>2014-01-03</td>\n",
              "      <td>781.23</td>\n",
              "      <td>60980.0</td>\n",
              "      <td>NaN</td>\n",
              "      <td>8</td>\n",
              "      <td>1238.4</td>\n",
              "      <td>1831.37</td>\n",
              "      <td>93.66</td>\n",
              "      <td>11089.3</td>\n",
              "      <td>14093.986991</td>\n",
              "      <td>2014-01-03</td>\n",
              "    </tr>\n",
              "    <tr>\n",
              "      <th>2</th>\n",
              "      <td>2014-01-04</td>\n",
              "      <td>807.39</td>\n",
              "      <td>52052.0</td>\n",
              "      <td>NaN</td>\n",
              "      <td>8</td>\n",
              "      <td>NaN</td>\n",
              "      <td>NaN</td>\n",
              "      <td>NaN</td>\n",
              "      <td>11089.3</td>\n",
              "      <td>NaN</td>\n",
              "      <td>NaT</td>\n",
              "    </tr>\n",
              "    <tr>\n",
              "      <th>3</th>\n",
              "      <td>2014-01-05</td>\n",
              "      <td>828.74</td>\n",
              "      <td>58662.0</td>\n",
              "      <td>0.38</td>\n",
              "      <td>8</td>\n",
              "      <td>NaN</td>\n",
              "      <td>NaN</td>\n",
              "      <td>NaN</td>\n",
              "      <td>11089.3</td>\n",
              "      <td>NaN</td>\n",
              "      <td>NaT</td>\n",
              "    </tr>\n",
              "    <tr>\n",
              "      <th>4</th>\n",
              "      <td>2014-01-06</td>\n",
              "      <td>904.98</td>\n",
              "      <td>67358.0</td>\n",
              "      <td>NaN</td>\n",
              "      <td>8</td>\n",
              "      <td>1237.8</td>\n",
              "      <td>1826.77</td>\n",
              "      <td>93.12</td>\n",
              "      <td>11089.3</td>\n",
              "      <td>14184.012024</td>\n",
              "      <td>2014-01-06</td>\n",
              "    </tr>\n",
              "  </tbody>\n",
              "</table>\n",
              "</div>"
            ],
            "text/plain": [
              "        Date   price  ...      0.000285       date\n",
              "0 2014-01-02  749.27  ...           NaN        NaT\n",
              "1 2014-01-03  781.23  ...  14093.986991 2014-01-03\n",
              "2 2014-01-04  807.39  ...           NaN        NaT\n",
              "3 2014-01-05  828.74  ...           NaN        NaT\n",
              "4 2014-01-06  904.98  ...  14184.012024 2014-01-06\n",
              "\n",
              "[5 rows x 11 columns]"
            ]
          },
          "metadata": {
            "tags": []
          },
          "execution_count": 102
        }
      ]
    },
    {
      "cell_type": "code",
      "metadata": {
        "colab": {
          "base_uri": "https://localhost:8080/"
        },
        "id": "Iznik9eOWuxT",
        "outputId": "f1ae5368-00d4-408b-c1c3-fc08ee78642a"
      },
      "source": [
        "main_dataset.shape"
      ],
      "execution_count": null,
      "outputs": [
        {
          "output_type": "execute_result",
          "data": {
            "text/plain": [
              "(2310, 9)"
            ]
          },
          "metadata": {
            "tags": []
          },
          "execution_count": 103
        }
      ]
    },
    {
      "cell_type": "code",
      "metadata": {
        "colab": {
          "base_uri": "https://localhost:8080/"
        },
        "id": "oE0g_0rgWyGy",
        "outputId": "7c989cf3-48bb-47d8-e353-72e953019d94"
      },
      "source": [
        "df.shape"
      ],
      "execution_count": null,
      "outputs": [
        {
          "output_type": "execute_result",
          "data": {
            "text/plain": [
              "(2310, 11)"
            ]
          },
          "metadata": {
            "tags": []
          },
          "execution_count": 104
        }
      ]
    },
    {
      "cell_type": "code",
      "metadata": {
        "id": "CsIB2okNW4DW"
      },
      "source": [
        "df=df.drop('date',axis=1)"
      ],
      "execution_count": null,
      "outputs": []
    },
    {
      "cell_type": "code",
      "metadata": {
        "id": "qCMWkhYkXFtE"
      },
      "source": [
        "df=df.rename(columns={'0.000285':'block_size'})"
      ],
      "execution_count": null,
      "outputs": []
    },
    {
      "cell_type": "code",
      "metadata": {
        "colab": {
          "base_uri": "https://localhost:8080/",
          "height": 323
        },
        "id": "WkWiP2jift64",
        "outputId": "3a3686e9-8889-48e5-ceec-1f791118f634"
      },
      "source": [
        "df=df.merge(repo_rate, how='left',left_on='Date',right_on='date')\n",
        "df.head()"
      ],
      "execution_count": null,
      "outputs": [
        {
          "output_type": "execute_result",
          "data": {
            "text/html": [
              "<div>\n",
              "<style scoped>\n",
              "    .dataframe tbody tr th:only-of-type {\n",
              "        vertical-align: middle;\n",
              "    }\n",
              "\n",
              "    .dataframe tbody tr th {\n",
              "        vertical-align: top;\n",
              "    }\n",
              "\n",
              "    .dataframe thead th {\n",
              "        text-align: right;\n",
              "    }\n",
              "</style>\n",
              "<table border=\"1\" class=\"dataframe\">\n",
              "  <thead>\n",
              "    <tr style=\"text-align: right;\">\n",
              "      <th></th>\n",
              "      <th>Date</th>\n",
              "      <th>price</th>\n",
              "      <th>n-transactions</th>\n",
              "      <th>fee [USD]</th>\n",
              "      <th>btc search trends</th>\n",
              "      <th>Gold price[USD]</th>\n",
              "      <th>index</th>\n",
              "      <th>oil_price</th>\n",
              "      <th>M2(Not seasonally adjusted)[1e+09 USD]</th>\n",
              "      <th>block_size</th>\n",
              "      <th>date</th>\n",
              "      <th>repo rate</th>\n",
              "    </tr>\n",
              "  </thead>\n",
              "  <tbody>\n",
              "    <tr>\n",
              "      <th>0</th>\n",
              "      <td>2014-01-02</td>\n",
              "      <td>749.27</td>\n",
              "      <td>54770.0</td>\n",
              "      <td>0.18</td>\n",
              "      <td>8</td>\n",
              "      <td>1225.0</td>\n",
              "      <td>1831.98</td>\n",
              "      <td>95.14</td>\n",
              "      <td>11089.3</td>\n",
              "      <td>NaN</td>\n",
              "      <td>NaT</td>\n",
              "      <td>NaN</td>\n",
              "    </tr>\n",
              "    <tr>\n",
              "      <th>1</th>\n",
              "      <td>2014-01-03</td>\n",
              "      <td>781.23</td>\n",
              "      <td>60980.0</td>\n",
              "      <td>NaN</td>\n",
              "      <td>8</td>\n",
              "      <td>1238.4</td>\n",
              "      <td>1831.37</td>\n",
              "      <td>93.66</td>\n",
              "      <td>11089.3</td>\n",
              "      <td>14093.986991</td>\n",
              "      <td>NaT</td>\n",
              "      <td>NaN</td>\n",
              "    </tr>\n",
              "    <tr>\n",
              "      <th>2</th>\n",
              "      <td>2014-01-04</td>\n",
              "      <td>807.39</td>\n",
              "      <td>52052.0</td>\n",
              "      <td>NaN</td>\n",
              "      <td>8</td>\n",
              "      <td>NaN</td>\n",
              "      <td>NaN</td>\n",
              "      <td>NaN</td>\n",
              "      <td>11089.3</td>\n",
              "      <td>NaN</td>\n",
              "      <td>NaT</td>\n",
              "      <td>NaN</td>\n",
              "    </tr>\n",
              "    <tr>\n",
              "      <th>3</th>\n",
              "      <td>2014-01-05</td>\n",
              "      <td>828.74</td>\n",
              "      <td>58662.0</td>\n",
              "      <td>0.38</td>\n",
              "      <td>8</td>\n",
              "      <td>NaN</td>\n",
              "      <td>NaN</td>\n",
              "      <td>NaN</td>\n",
              "      <td>11089.3</td>\n",
              "      <td>NaN</td>\n",
              "      <td>NaT</td>\n",
              "      <td>NaN</td>\n",
              "    </tr>\n",
              "    <tr>\n",
              "      <th>4</th>\n",
              "      <td>2014-01-06</td>\n",
              "      <td>904.98</td>\n",
              "      <td>67358.0</td>\n",
              "      <td>NaN</td>\n",
              "      <td>8</td>\n",
              "      <td>1237.8</td>\n",
              "      <td>1826.77</td>\n",
              "      <td>93.12</td>\n",
              "      <td>11089.3</td>\n",
              "      <td>14184.012024</td>\n",
              "      <td>NaT</td>\n",
              "      <td>NaN</td>\n",
              "    </tr>\n",
              "  </tbody>\n",
              "</table>\n",
              "</div>"
            ],
            "text/plain": [
              "        Date   price  n-transactions  ...    block_size  date  repo rate\n",
              "0 2014-01-02  749.27         54770.0  ...           NaN   NaT        NaN\n",
              "1 2014-01-03  781.23         60980.0  ...  14093.986991   NaT        NaN\n",
              "2 2014-01-04  807.39         52052.0  ...           NaN   NaT        NaN\n",
              "3 2014-01-05  828.74         58662.0  ...           NaN   NaT        NaN\n",
              "4 2014-01-06  904.98         67358.0  ...  14184.012024   NaT        NaN\n",
              "\n",
              "[5 rows x 12 columns]"
            ]
          },
          "metadata": {
            "tags": []
          },
          "execution_count": 107
        }
      ]
    },
    {
      "cell_type": "code",
      "metadata": {
        "colab": {
          "base_uri": "https://localhost:8080/"
        },
        "id": "Hp13UJTTXaHX",
        "outputId": "83a5d23b-8127-4c87-9543-90a5b455b8c5"
      },
      "source": [
        "df.isnull().sum()"
      ],
      "execution_count": null,
      "outputs": [
        {
          "output_type": "execute_result",
          "data": {
            "text/plain": [
              "Date                                         0\n",
              "price                                        0\n",
              "n-transactions                               0\n",
              "fee [USD]                                  844\n",
              "btc search trends                            0\n",
              "Gold price[USD]                            639\n",
              "index                                      718\n",
              "oil_price                                  723\n",
              "M2(Not seasonally adjusted)[1e+09 USD]       0\n",
              "block_size                                1540\n",
              "date                                      2294\n",
              "repo rate                                 2294\n",
              "dtype: int64"
            ]
          },
          "metadata": {
            "tags": []
          },
          "execution_count": 110
        }
      ]
    },
    {
      "cell_type": "code",
      "metadata": {
        "id": "VA9d7y5ogYoW"
      },
      "source": [
        "df=df.drop(['M2(Not seasonally adjusted)[1e+09 USD]','date'],axis=1)"
      ],
      "execution_count": null,
      "outputs": []
    },
    {
      "cell_type": "code",
      "metadata": {
        "id": "iRtvyR5XZb8B"
      },
      "source": [
        "df = df.set_index(['Date'])"
      ],
      "execution_count": null,
      "outputs": []
    },
    {
      "cell_type": "code",
      "metadata": {
        "id": "ecdgsyFVXnm2"
      },
      "source": [
        "df = df.fillna(df.interpolate(method='time'))"
      ],
      "execution_count": null,
      "outputs": []
    },
    {
      "cell_type": "code",
      "metadata": {
        "colab": {
          "base_uri": "https://localhost:8080/"
        },
        "id": "vBkaVneBaF9t",
        "outputId": "67b633a1-ae43-4193-95b0-58ebd896dbf1"
      },
      "source": [
        "df=df.dropna(axis=0)\n",
        "df.isnull().sum()"
      ],
      "execution_count": null,
      "outputs": [
        {
          "output_type": "execute_result",
          "data": {
            "text/plain": [
              "price                0\n",
              "n-transactions       0\n",
              "fee [USD]            0\n",
              "btc search trends    0\n",
              "Gold price[USD]      0\n",
              "index                0\n",
              "oil_price            0\n",
              "block_size           0\n",
              "repo rate            0\n",
              "dtype: int64"
            ]
          },
          "metadata": {
            "tags": []
          },
          "execution_count": 114
        }
      ]
    },
    {
      "cell_type": "code",
      "metadata": {
        "colab": {
          "base_uri": "https://localhost:8080/",
          "height": 325
        },
        "id": "BxHoi9XBMJhT",
        "outputId": "eb8067b4-fb70-4b0e-efa6-7c4100c781e4"
      },
      "source": [
        "fig = plt.figure()\n",
        "plt.plot(main_dataset.Date, main_dataset.price)\n",
        "plt.suptitle(\"Bitcoin Price in USD\")\n",
        "plt.xlabel(\"Year\")\n",
        "plt.ylabel(\"Price\")"
      ],
      "execution_count": null,
      "outputs": [
        {
          "output_type": "execute_result",
          "data": {
            "text/plain": [
              "Text(0, 0.5, 'Price')"
            ]
          },
          "metadata": {
            "tags": []
          },
          "execution_count": 116
        },
        {
          "output_type": "display_data",
          "data": {
            "image/png": "[encoded data removed]",
            "text/plain": [
              "<Figure size 432x288 with 1 Axes>"
            ]
          },
          "metadata": {
            "tags": [],
            "needs_background": "light"
          }
        }
      ]
    },
    {
      "cell_type": "code",
      "metadata": {
        "colab": {
          "base_uri": "https://localhost:8080/"
        },
        "id": "8M-ohc7IeZQk",
        "outputId": "f644f26d-cdf9-4be4-f807-23341cbaa904"
      },
      "source": [
        "df.columns"
      ],
      "execution_count": null,
      "outputs": [
        {
          "output_type": "execute_result",
          "data": {
            "text/plain": [
              "Index(['price', 'n-transactions', 'fee [USD]', 'btc search trends',\n",
              "       'Gold price[USD]', 'index', 'oil_price', 'block_size', 'repo rate'],\n",
              "      dtype='object')"
            ]
          },
          "metadata": {
            "tags": []
          },
          "execution_count": 122
        }
      ]
    },
    {
      "cell_type": "code",
      "metadata": {
        "id": "VZjSeuPokTql"
      },
      "source": [
        "X = df[['n-transactions', 'fee [USD]', 'btc search trends',\n",
        "       'Gold price[USD]', 'index', 'oil_price', 'block_size', 'repo rate']]"
      ],
      "execution_count": null,
      "outputs": []
    },
    {
      "cell_type": "code",
      "metadata": {
        "id": "Y4bLkz1ISEOj",
        "colab": {
          "base_uri": "https://localhost:8080/"
        },
        "outputId": "c8430c2c-8ecb-49db-8c1a-1299ee3d595c"
      },
      "source": [
        "\n",
        "vif_data = pd.DataFrame()\n",
        "\n",
        "vif_data[\"feature\"] = X.columns\n",
        "  \n",
        "vif_data[\"VIF\"] = [variance_inflation_factor(X.values, i)\n",
        "                          for i in range(len(X.columns))]\n",
        "  \n",
        "print(vif_data)"
      ],
      "execution_count": null,
      "outputs": [
        {
          "output_type": "stream",
          "text": [
            "             feature         VIF\n",
            "0     n-transactions   21.721366\n",
            "1          fee [USD]    4.216751\n",
            "2  btc search trends    7.080385\n",
            "3    Gold price[USD]  274.327877\n",
            "4              index  358.888385\n",
            "5          oil_price   18.810035\n",
            "6         block_size   72.285551\n",
            "7          repo rate  355.234089\n"
          ],
          "name": "stdout"
        }
      ]
    },
    {
      "cell_type": "code",
      "metadata": {
        "colab": {
          "base_uri": "https://localhost:8080/"
        },
        "id": "5_9K6Qarh7Up",
        "outputId": "cd2c977c-a6be-426c-e7ee-18bbd53197c1"
      },
      "source": [
        "#adding a constant, which isn't present by default in OLS\n",
        "from statsmodels.tools.tools import add_constant\n",
        "\n",
        "X = add_constant(X)\n",
        "pd.Series([variance_inflation_factor(X.values, i) \n",
        "               for i in range(X.shape[1])], \n",
        "              index=X.columns)"
      ],
      "execution_count": null,
      "outputs": [
        {
          "output_type": "execute_result",
          "data": {
            "text/plain": [
              "const                1587.060331\n",
              "n-transactions          5.659549\n",
              "fee [USD]               3.811662\n",
              "btc search trends       4.590736\n",
              "Gold price[USD]         1.969104\n",
              "index                  12.751218\n",
              "oil_price               2.444792\n",
              "block_size             22.375078\n",
              "repo rate              14.619406\n",
              "dtype: float64"
            ]
          },
          "metadata": {
            "tags": []
          },
          "execution_count": 134
        }
      ]
    },
    {
      "cell_type": "code",
      "metadata": {
        "id": "WbO1-OmyjixL"
      },
      "source": [
        "X['index']=np.square(X['index'])\n",
        "X['block_size']=np.square(X['block_size'])\n",
        "X['repo rate']=np.square(X['repo rate'])"
      ],
      "execution_count": null,
      "outputs": []
    },
    {
      "cell_type": "code",
      "metadata": {
        "colab": {
          "base_uri": "https://localhost:8080/"
        },
        "id": "0z_eXAFakD8L",
        "outputId": "5489bd21-21c8-493e-ccc6-81bd66c895b6"
      },
      "source": [
        "X = add_constant(X)\n",
        "pd.Series([variance_inflation_factor(X.values, i) \n",
        "               for i in range(X.shape[1])], \n",
        "              index=X.columns)"
      ],
      "execution_count": null,
      "outputs": [
        {
          "output_type": "execute_result",
          "data": {
            "text/plain": [
              "const                578.499112\n",
              "n-transactions         5.554029\n",
              "fee [USD]              3.737747\n",
              "btc search trends      4.311542\n",
              "Gold price[USD]        2.326248\n",
              "index                 10.139377\n",
              "oil_price              2.637977\n",
              "block_size            10.558585\n",
              "repo rate             11.113545\n",
              "dtype: float64"
            ]
          },
          "metadata": {
            "tags": []
          },
          "execution_count": 136
        }
      ]
    },
    {
      "cell_type": "code",
      "metadata": {
        "colab": {
          "base_uri": "https://localhost:8080/"
        },
        "id": "uC-kR464kKdo",
        "outputId": "164c77e4-6685-4fe4-c40d-45966e82bc0c"
      },
      "source": [
        "X['index']=np.power(X['index'],3)\n",
        "X['block_size']=np.power(X['block_size'],3)\n",
        "X['repo rate']=np.power(X['repo rate'],3)"
      ],
      "execution_count": null,
      "outputs": [
        {
          "output_type": "stream",
          "text": [
            "/usr/local/lib/python3.7/dist-packages/ipykernel_launcher.py:1: SettingWithCopyWarning: \n",
            "A value is trying to be set on a copy of a slice from a DataFrame.\n",
            "Try using .loc[row_indexer,col_indexer] = value instead\n",
            "\n",
            "See the caveats in the documentation: https://pandas.pydata.org/pandas-docs/stable/user_guide/indexing.html#returning-a-view-versus-a-copy\n",
            "  \"\"\"Entry point for launching an IPython kernel.\n",
            "/usr/local/lib/python3.7/dist-packages/ipykernel_launcher.py:2: SettingWithCopyWarning: \n",
            "A value is trying to be set on a copy of a slice from a DataFrame.\n",
            "Try using .loc[row_indexer,col_indexer] = value instead\n",
            "\n",
            "See the caveats in the documentation: https://pandas.pydata.org/pandas-docs/stable/user_guide/indexing.html#returning-a-view-versus-a-copy\n",
            "  \n",
            "/usr/local/lib/python3.7/dist-packages/ipykernel_launcher.py:3: SettingWithCopyWarning: \n",
            "A value is trying to be set on a copy of a slice from a DataFrame.\n",
            "Try using .loc[row_indexer,col_indexer] = value instead\n",
            "\n",
            "See the caveats in the documentation: https://pandas.pydata.org/pandas-docs/stable/user_guide/indexing.html#returning-a-view-versus-a-copy\n",
            "  This is separate from the ipykernel package so we can avoid doing imports until\n"
          ],
          "name": "stderr"
        }
      ]
    },
    {
      "cell_type": "code",
      "metadata": {
        "colab": {
          "base_uri": "https://localhost:8080/"
        },
        "id": "kjItmMctk3Mc",
        "outputId": "6c0d171b-c628-43fe-981a-8ce3fcfdbc7c"
      },
      "source": [
        "X = add_constant(X)\n",
        "pd.Series([variance_inflation_factor(X.values, i) \n",
        "               for i in range(X.shape[1])], \n",
        "              index=X.columns)"
      ],
      "execution_count": null,
      "outputs": [
        {
          "output_type": "stream",
          "text": [
            "/usr/local/lib/python3.7/dist-packages/statsmodels/regression/linear_model.py:1636: RuntimeWarning: divide by zero encountered in double_scalars\n",
            "  return 1 - self.ssr/self.centered_tss\n"
          ],
          "name": "stderr"
        },
        {
          "output_type": "execute_result",
          "data": {
            "text/plain": [
              "const                0.000000\n",
              "n-transactions       4.176800\n",
              "fee [USD]            3.686067\n",
              "btc search trends    1.384005\n",
              "Gold price[USD]      0.848549\n",
              "index                7.494609\n",
              "oil_price            2.711086\n",
              "block_size           7.455249\n",
              "repo rate            8.175881\n",
              "dtype: float64"
            ]
          },
          "metadata": {
            "tags": []
          },
          "execution_count": 139
        }
      ]
    },
    {
      "cell_type": "code",
      "metadata": {
        "colab": {
          "base_uri": "https://localhost:8080/",
          "height": 337
        },
        "id": "zkRPlnF0k7T4",
        "outputId": "0c1bd25b-ce8b-4a44-b2a9-e2dc5a835598"
      },
      "source": [
        "df = df.sort_index()\n",
        "df.head()"
      ],
      "execution_count": null,
      "outputs": [
        {
          "output_type": "execute_result",
          "data": {
            "text/html": [
              "<div>\n",
              "<style scoped>\n",
              "    .dataframe tbody tr th:only-of-type {\n",
              "        vertical-align: middle;\n",
              "    }\n",
              "\n",
              "    .dataframe tbody tr th {\n",
              "        vertical-align: top;\n",
              "    }\n",
              "\n",
              "    .dataframe thead th {\n",
              "        text-align: right;\n",
              "    }\n",
              "</style>\n",
              "<table border=\"1\" class=\"dataframe\">\n",
              "  <thead>\n",
              "    <tr style=\"text-align: right;\">\n",
              "      <th></th>\n",
              "      <th>price</th>\n",
              "      <th>n-transactions</th>\n",
              "      <th>fee [USD]</th>\n",
              "      <th>btc search trends</th>\n",
              "      <th>Gold price[USD]</th>\n",
              "      <th>index</th>\n",
              "      <th>oil_price</th>\n",
              "      <th>block_size</th>\n",
              "      <th>repo rate</th>\n",
              "    </tr>\n",
              "    <tr>\n",
              "      <th>Date</th>\n",
              "      <th></th>\n",
              "      <th></th>\n",
              "      <th></th>\n",
              "      <th></th>\n",
              "      <th></th>\n",
              "      <th></th>\n",
              "      <th></th>\n",
              "      <th></th>\n",
              "      <th></th>\n",
              "    </tr>\n",
              "  </thead>\n",
              "  <tbody>\n",
              "    <tr>\n",
              "      <th>2014-01-28</th>\n",
              "      <td>747.57</td>\n",
              "      <td>65762.0</td>\n",
              "      <td>0.17</td>\n",
              "      <td>8</td>\n",
              "      <td>1251.000000</td>\n",
              "      <td>1792.500000</td>\n",
              "      <td>97.49</td>\n",
              "      <td>14846.773439</td>\n",
              "      <td>8.000000</td>\n",
              "    </tr>\n",
              "    <tr>\n",
              "      <th>2014-01-29</th>\n",
              "      <td>785.60</td>\n",
              "      <td>59682.0</td>\n",
              "      <td>0.17</td>\n",
              "      <td>8</td>\n",
              "      <td>1262.200000</td>\n",
              "      <td>1774.200000</td>\n",
              "      <td>97.34</td>\n",
              "      <td>14878.448171</td>\n",
              "      <td>7.999290</td>\n",
              "    </tr>\n",
              "    <tr>\n",
              "      <th>2014-01-30</th>\n",
              "      <td>794.00</td>\n",
              "      <td>60799.0</td>\n",
              "      <td>0.17</td>\n",
              "      <td>8</td>\n",
              "      <td>1242.200000</td>\n",
              "      <td>1794.190000</td>\n",
              "      <td>98.25</td>\n",
              "      <td>14910.122904</td>\n",
              "      <td>7.998580</td>\n",
              "    </tr>\n",
              "    <tr>\n",
              "      <th>2014-01-31</th>\n",
              "      <td>800.00</td>\n",
              "      <td>60269.0</td>\n",
              "      <td>0.17</td>\n",
              "      <td>8</td>\n",
              "      <td>1240.100000</td>\n",
              "      <td>1782.590000</td>\n",
              "      <td>97.55</td>\n",
              "      <td>14940.242085</td>\n",
              "      <td>7.997869</td>\n",
              "    </tr>\n",
              "    <tr>\n",
              "      <th>2014-02-01</th>\n",
              "      <td>803.00</td>\n",
              "      <td>54838.0</td>\n",
              "      <td>0.17</td>\n",
              "      <td>9</td>\n",
              "      <td>1246.866667</td>\n",
              "      <td>1769.023333</td>\n",
              "      <td>97.18</td>\n",
              "      <td>14970.361266</td>\n",
              "      <td>7.997159</td>\n",
              "    </tr>\n",
              "  </tbody>\n",
              "</table>\n",
              "</div>"
            ],
            "text/plain": [
              "             price  n-transactions  ...    block_size  repo rate\n",
              "Date                                ...                         \n",
              "2014-01-28  747.57         65762.0  ...  14846.773439   8.000000\n",
              "2014-01-29  785.60         59682.0  ...  14878.448171   7.999290\n",
              "2014-01-30  794.00         60799.0  ...  14910.122904   7.998580\n",
              "2014-01-31  800.00         60269.0  ...  14940.242085   7.997869\n",
              "2014-02-01  803.00         54838.0  ...  14970.361266   7.997159\n",
              "\n",
              "[5 rows x 9 columns]"
            ]
          },
          "metadata": {
            "tags": []
          },
          "execution_count": 141
        }
      ]
    },
    {
      "cell_type": "code",
      "metadata": {
        "colab": {
          "base_uri": "https://localhost:8080/",
          "height": 337
        },
        "id": "4PWJsrrslmzv",
        "outputId": "2e5cc12f-1e97-4320-e3ec-e73cc698ba62"
      },
      "source": [
        "df.tail()"
      ],
      "execution_count": null,
      "outputs": [
        {
          "output_type": "execute_result",
          "data": {
            "text/html": [
              "<div>\n",
              "<style scoped>\n",
              "    .dataframe tbody tr th:only-of-type {\n",
              "        vertical-align: middle;\n",
              "    }\n",
              "\n",
              "    .dataframe tbody tr th {\n",
              "        vertical-align: top;\n",
              "    }\n",
              "\n",
              "    .dataframe thead th {\n",
              "        text-align: right;\n",
              "    }\n",
              "</style>\n",
              "<table border=\"1\" class=\"dataframe\">\n",
              "  <thead>\n",
              "    <tr style=\"text-align: right;\">\n",
              "      <th></th>\n",
              "      <th>price</th>\n",
              "      <th>n-transactions</th>\n",
              "      <th>fee [USD]</th>\n",
              "      <th>btc search trends</th>\n",
              "      <th>Gold price[USD]</th>\n",
              "      <th>index</th>\n",
              "      <th>oil_price</th>\n",
              "      <th>block_size</th>\n",
              "      <th>repo rate</th>\n",
              "    </tr>\n",
              "    <tr>\n",
              "      <th>Date</th>\n",
              "      <th></th>\n",
              "      <th></th>\n",
              "      <th></th>\n",
              "      <th></th>\n",
              "      <th></th>\n",
              "      <th></th>\n",
              "      <th></th>\n",
              "      <th></th>\n",
              "      <th></th>\n",
              "    </tr>\n",
              "  </thead>\n",
              "  <tbody>\n",
              "    <tr>\n",
              "      <th>2020-04-25</th>\n",
              "      <td>7507.08</td>\n",
              "      <td>280805.0</td>\n",
              "      <td>0.75</td>\n",
              "      <td>16</td>\n",
              "      <td>1731.666667</td>\n",
              "      <td>2850.653333</td>\n",
              "      <td>14.716667</td>\n",
              "      <td>273856.325797</td>\n",
              "      <td>5.4</td>\n",
              "    </tr>\n",
              "    <tr>\n",
              "      <th>2020-04-26</th>\n",
              "      <td>7549.52</td>\n",
              "      <td>252833.0</td>\n",
              "      <td>0.62</td>\n",
              "      <td>16</td>\n",
              "      <td>1727.733333</td>\n",
              "      <td>2864.566667</td>\n",
              "      <td>13.443333</td>\n",
              "      <td>274016.989804</td>\n",
              "      <td>5.4</td>\n",
              "    </tr>\n",
              "    <tr>\n",
              "      <th>2020-04-27</th>\n",
              "      <td>7699.27</td>\n",
              "      <td>311217.0</td>\n",
              "      <td>0.69</td>\n",
              "      <td>16</td>\n",
              "      <td>1723.800000</td>\n",
              "      <td>2878.480000</td>\n",
              "      <td>12.170000</td>\n",
              "      <td>274177.653811</td>\n",
              "      <td>5.4</td>\n",
              "    </tr>\n",
              "    <tr>\n",
              "      <th>2020-04-28</th>\n",
              "      <td>7790.66</td>\n",
              "      <td>323475.0</td>\n",
              "      <td>0.66</td>\n",
              "      <td>16</td>\n",
              "      <td>1722.200000</td>\n",
              "      <td>2863.390000</td>\n",
              "      <td>12.400000</td>\n",
              "      <td>274338.317818</td>\n",
              "      <td>5.4</td>\n",
              "    </tr>\n",
              "    <tr>\n",
              "      <th>2020-04-29</th>\n",
              "      <td>7765.33</td>\n",
              "      <td>331401.0</td>\n",
              "      <td>1.30</td>\n",
              "      <td>16</td>\n",
              "      <td>1713.400000</td>\n",
              "      <td>2939.510000</td>\n",
              "      <td>15.040000</td>\n",
              "      <td>274338.317818</td>\n",
              "      <td>5.4</td>\n",
              "    </tr>\n",
              "  </tbody>\n",
              "</table>\n",
              "</div>"
            ],
            "text/plain": [
              "              price  n-transactions  ...     block_size  repo rate\n",
              "Date                                 ...                          \n",
              "2020-04-25  7507.08        280805.0  ...  273856.325797        5.4\n",
              "2020-04-26  7549.52        252833.0  ...  274016.989804        5.4\n",
              "2020-04-27  7699.27        311217.0  ...  274177.653811        5.4\n",
              "2020-04-28  7790.66        323475.0  ...  274338.317818        5.4\n",
              "2020-04-29  7765.33        331401.0  ...  274338.317818        5.4\n",
              "\n",
              "[5 rows x 9 columns]"
            ]
          },
          "metadata": {
            "tags": []
          },
          "execution_count": 142
        }
      ]
    },
    {
      "cell_type": "code",
      "metadata": {
        "id": "CyNIQJwimDZ6"
      },
      "source": [
        "df['index']=np.power(df['index'],3)\n",
        "df['block_size']=np.power(df['block_size'],3)\n",
        "df['repo rate']=np.power(df['repo rate'],3)"
      ],
      "execution_count": null,
      "outputs": []
    },
    {
      "cell_type": "code",
      "metadata": {
        "colab": {
          "base_uri": "https://localhost:8080/"
        },
        "id": "AWi8zoHBlj0t",
        "outputId": "78cdd7d3-c542-4120-9d54-079bb2ab3893"
      },
      "source": [
        "train = df['2014-01-28':'2019-12-31']\n",
        "test  = df['2020-01-01':]\n",
        "print('Train Dataset:',train.shape)\n",
        "print('Test Dataset:',test.shape)"
      ],
      "execution_count": null,
      "outputs": [
        {
          "output_type": "stream",
          "text": [
            "Train Dataset: (1799, 9)\n",
            "Test Dataset: (365, 9)\n"
          ],
          "name": "stdout"
        }
      ]
    },
    {
      "cell_type": "code",
      "metadata": {
        "id": "YmnvlG02l7Zu"
      },
      "source": [
        "train_X=train[['n-transactions', 'fee [USD]', 'btc search trends',\n",
        "       'Gold price[USD]', 'index', 'oil_price', 'block_size', 'repo rate']]\n",
        "train_Y=train['price']\n",
        "test_X=test[['n-transactions', 'fee [USD]', 'btc search trends',\n",
        "       'Gold price[USD]', 'index', 'oil_price', 'block_size', 'repo rate']]\n",
        "test_Y=test['price']"
      ],
      "execution_count": null,
      "outputs": []
    },
    {
      "cell_type": "code",
      "metadata": {
        "id": "JqL7PhP8nPAM"
      },
      "source": [
        "import statsmodels.api as sm\n",
        "import statsmodels.formula.api as smf"
      ],
      "execution_count": null,
      "outputs": []
    },
    {
      "cell_type": "code",
      "metadata": {
        "id": "Wia_0sREuxXh"
      },
      "source": [
        "train=train.rename(columns={'n-transactions':'txn','fee [USD]':'fee','btc search trends':'search_trends','Gold price[USD]':'gold_price','repo rate':'repo_rate'})"
      ],
      "execution_count": null,
      "outputs": []
    },
    {
      "cell_type": "code",
      "metadata": {
        "id": "EvvDbkIVvi1P"
      },
      "source": [
        "test=test.rename(columns={'n-transactions':'txn','fee [USD]':'fee','btc search trends':'search_trends','Gold price[USD]':'gold_price','repo rate':'repo_rate'})"
      ],
      "execution_count": null,
      "outputs": []
    },
    {
      "cell_type": "code",
      "metadata": {
        "id": "gBR2VOVhqJZR"
      },
      "source": [
        "lm1=smf.ols(formula= 'price ~ txn + fee + search_trends + gold_price + index + oil_price + block_size + repo_rate' ,data=train).fit()"
      ],
      "execution_count": null,
      "outputs": []
    },
    {
      "cell_type": "code",
      "metadata": {
        "colab": {
          "base_uri": "https://localhost:8080/",
          "height": 625
        },
        "id": "zMvxqaEfu0Rv",
        "outputId": "cadc6850-d38f-467d-9b97-ecbc8f97653f"
      },
      "source": [
        "lm1.summary()"
      ],
      "execution_count": null,
      "outputs": [
        {
          "output_type": "execute_result",
          "data": {
            "text/html": [
              "<table class=\"simpletable\">\n",
              "<caption>OLS Regression Results</caption>\n",
              "<tr>\n",
              "  <th>Dep. Variable:</th>          <td>price</td>      <th>  R-squared:         </th> <td>   0.930</td> \n",
              "</tr>\n",
              "<tr>\n",
              "  <th>Model:</th>                   <td>OLS</td>       <th>  Adj. R-squared:    </th> <td>   0.930</td> \n",
              "</tr>\n",
              "<tr>\n",
              "  <th>Method:</th>             <td>Least Squares</td>  <th>  F-statistic:       </th> <td>   3991.</td> \n",
              "</tr>\n",
              "<tr>\n",
              "  <th>Date:</th>             <td>Sat, 24 Apr 2021</td> <th>  Prob (F-statistic):</th>  <td>  0.00</td>  \n",
              "</tr>\n",
              "<tr>\n",
              "  <th>Time:</th>                 <td>16:34:59</td>     <th>  Log-Likelihood:    </th> <td> -14853.</td> \n",
              "</tr>\n",
              "<tr>\n",
              "  <th>No. Observations:</th>      <td>  1799</td>      <th>  AIC:               </th> <td>2.972e+04</td>\n",
              "</tr>\n",
              "<tr>\n",
              "  <th>Df Residuals:</th>          <td>  1792</td>      <th>  BIC:               </th> <td>2.976e+04</td>\n",
              "</tr>\n",
              "<tr>\n",
              "  <th>Df Model:</th>              <td>     6</td>      <th>                     </th>     <td> </td>    \n",
              "</tr>\n",
              "<tr>\n",
              "  <th>Covariance Type:</th>      <td>nonrobust</td>    <th>                     </th>     <td> </td>    \n",
              "</tr>\n",
              "</table>\n",
              "<table class=\"simpletable\">\n",
              "<tr>\n",
              "        <td></td>           <th>coef</th>     <th>std err</th>      <th>t</th>      <th>P>|t|</th>  <th>[0.025</th>    <th>0.975]</th>  \n",
              "</tr>\n",
              "<tr>\n",
              "  <th>Intercept</th>     <td>   -0.2993</td> <td>    0.005</td> <td>  -55.323</td> <td> 0.000</td> <td>   -0.310</td> <td>   -0.289</td>\n",
              "</tr>\n",
              "<tr>\n",
              "  <th>txn</th>           <td>   -0.0088</td> <td>    0.001</td> <td>  -16.546</td> <td> 0.000</td> <td>   -0.010</td> <td>   -0.008</td>\n",
              "</tr>\n",
              "<tr>\n",
              "  <th>fee</th>           <td>   38.3357</td> <td>    0.531</td> <td>   72.135</td> <td> 0.000</td> <td>   37.293</td> <td>   39.378</td>\n",
              "</tr>\n",
              "<tr>\n",
              "  <th>search_trends</th> <td>  126.8351</td> <td>    1.757</td> <td>   72.189</td> <td> 0.000</td> <td>  123.389</td> <td>  130.281</td>\n",
              "</tr>\n",
              "<tr>\n",
              "  <th>gold_price</th>    <td>    0.0715</td> <td>    0.225</td> <td>    0.319</td> <td> 0.750</td> <td>   -0.369</td> <td>    0.512</td>\n",
              "</tr>\n",
              "<tr>\n",
              "  <th>index</th>         <td>  2.73e-07</td> <td> 1.33e-08</td> <td>   20.490</td> <td> 0.000</td> <td> 2.47e-07</td> <td> 2.99e-07</td>\n",
              "</tr>\n",
              "<tr>\n",
              "  <th>oil_price</th>     <td>   16.0745</td> <td>    1.989</td> <td>    8.080</td> <td> 0.000</td> <td>   12.173</td> <td>   19.976</td>\n",
              "</tr>\n",
              "<tr>\n",
              "  <th>block_size</th>    <td> 2.182e-13</td> <td> 2.84e-14</td> <td>    7.677</td> <td> 0.000</td> <td> 1.62e-13</td> <td> 2.74e-13</td>\n",
              "</tr>\n",
              "<tr>\n",
              "  <th>repo_rate</th>     <td>   -6.0394</td> <td>    0.611</td> <td>   -9.881</td> <td> 0.000</td> <td>   -7.238</td> <td>   -4.841</td>\n",
              "</tr>\n",
              "</table>\n",
              "<table class=\"simpletable\">\n",
              "<tr>\n",
              "  <th>Omnibus:</th>       <td>592.681</td> <th>  Durbin-Watson:     </th> <td>   0.202</td>\n",
              "</tr>\n",
              "<tr>\n",
              "  <th>Prob(Omnibus):</th> <td> 0.000</td>  <th>  Jarque-Bera (JB):  </th> <td>5640.677</td>\n",
              "</tr>\n",
              "<tr>\n",
              "  <th>Skew:</th>          <td> 1.264</td>  <th>  Prob(JB):          </th> <td>    0.00</td>\n",
              "</tr>\n",
              "<tr>\n",
              "  <th>Kurtosis:</th>      <td>11.298</td>  <th>  Cond. No.          </th> <td>5.88e+16</td>\n",
              "</tr>\n",
              "</table><br/><br/>Warnings:<br/>[1] Standard Errors assume that the covariance matrix of the errors is correctly specified.<br/>[2] The condition number is large, 5.88e+16. This might indicate that there are<br/>strong multicollinearity or other numerical problems."
            ],
            "text/plain": [
              "<class 'statsmodels.iolib.summary.Summary'>\n",
              "\"\"\"\n",
              "                            OLS Regression Results                            \n",
              "==============================================================================\n",
              "Dep. Variable:                  price   R-squared:                       0.930\n",
              "Model:                            OLS   Adj. R-squared:                  0.930\n",
              "Method:                 Least Squares   F-statistic:                     3991.\n",
              "Date:                Sat, 24 Apr 2021   Prob (F-statistic):               0.00\n",
              "Time:                        16:34:59   Log-Likelihood:                -14853.\n",
              "No. Observations:                1799   AIC:                         2.972e+04\n",
              "Df Residuals:                    1792   BIC:                         2.976e+04\n",
              "Df Model:                           6                                         \n",
              "Covariance Type:            nonrobust                                         \n",
              "=================================================================================\n",
              "                    coef    std err          t      P>|t|      [0.025      0.975]\n",
              "---------------------------------------------------------------------------------\n",
              "Intercept        -0.2993      0.005    -55.323      0.000      -0.310      -0.289\n",
              "txn              -0.0088      0.001    -16.546      0.000      -0.010      -0.008\n",
              "fee              38.3357      0.531     72.135      0.000      37.293      39.378\n",
              "search_trends   126.8351      1.757     72.189      0.000     123.389     130.281\n",
              "gold_price        0.0715      0.225      0.319      0.750      -0.369       0.512\n",
              "index           2.73e-07   1.33e-08     20.490      0.000    2.47e-07    2.99e-07\n",
              "oil_price        16.0745      1.989      8.080      0.000      12.173      19.976\n",
              "block_size     2.182e-13   2.84e-14      7.677      0.000    1.62e-13    2.74e-13\n",
              "repo_rate        -6.0394      0.611     -9.881      0.000      -7.238      -4.841\n",
              "==============================================================================\n",
              "Omnibus:                      592.681   Durbin-Watson:                   0.202\n",
              "Prob(Omnibus):                  0.000   Jarque-Bera (JB):             5640.677\n",
              "Skew:                           1.264   Prob(JB):                         0.00\n",
              "Kurtosis:                      11.298   Cond. No.                     5.88e+16\n",
              "==============================================================================\n",
              "\n",
              "Warnings:\n",
              "[1] Standard Errors assume that the covariance matrix of the errors is correctly specified.\n",
              "[2] The condition number is large, 5.88e+16. This might indicate that there are\n",
              "strong multicollinearity or other numerical problems.\n",
              "\"\"\""
            ]
          },
          "metadata": {
            "tags": []
          },
          "execution_count": 180
        }
      ]
    },
    {
      "cell_type": "code",
      "metadata": {
        "id": "oyGpgZKJvgw_"
      },
      "source": [
        "lm2=smf.ols(formula= 'price ~ txn + fee + search_trends + index + oil_price + block_size + repo_rate' ,data=train).fit()"
      ],
      "execution_count": null,
      "outputs": []
    },
    {
      "cell_type": "code",
      "metadata": {
        "colab": {
          "base_uri": "https://localhost:8080/",
          "height": 604
        },
        "id": "LH83rEBjyRkP",
        "outputId": "3bc1cbcb-8817-4655-cf93-e8094cf61ebb"
      },
      "source": [
        "lm2.summary()"
      ],
      "execution_count": null,
      "outputs": [
        {
          "output_type": "execute_result",
          "data": {
            "text/html": [
              "<table class=\"simpletable\">\n",
              "<caption>OLS Regression Results</caption>\n",
              "<tr>\n",
              "  <th>Dep. Variable:</th>          <td>price</td>      <th>  R-squared:         </th> <td>   0.930</td> \n",
              "</tr>\n",
              "<tr>\n",
              "  <th>Model:</th>                   <td>OLS</td>       <th>  Adj. R-squared:    </th> <td>   0.930</td> \n",
              "</tr>\n",
              "<tr>\n",
              "  <th>Method:</th>             <td>Least Squares</td>  <th>  F-statistic:       </th> <td>   4798.</td> \n",
              "</tr>\n",
              "<tr>\n",
              "  <th>Date:</th>             <td>Sat, 24 Apr 2021</td> <th>  Prob (F-statistic):</th>  <td>  0.00</td>  \n",
              "</tr>\n",
              "<tr>\n",
              "  <th>Time:</th>                 <td>16:49:25</td>     <th>  Log-Likelihood:    </th> <td> -14852.</td> \n",
              "</tr>\n",
              "<tr>\n",
              "  <th>No. Observations:</th>      <td>  1799</td>      <th>  AIC:               </th> <td>2.972e+04</td>\n",
              "</tr>\n",
              "<tr>\n",
              "  <th>Df Residuals:</th>          <td>  1793</td>      <th>  BIC:               </th> <td>2.975e+04</td>\n",
              "</tr>\n",
              "<tr>\n",
              "  <th>Df Model:</th>              <td>     5</td>      <th>                     </th>     <td> </td>    \n",
              "</tr>\n",
              "<tr>\n",
              "  <th>Covariance Type:</th>      <td>nonrobust</td>    <th>                     </th>     <td> </td>    \n",
              "</tr>\n",
              "</table>\n",
              "<table class=\"simpletable\">\n",
              "<tr>\n",
              "        <td></td>           <th>coef</th>     <th>std err</th>      <th>t</th>      <th>P>|t|</th>  <th>[0.025</th>    <th>0.975]</th>  \n",
              "</tr>\n",
              "<tr>\n",
              "  <th>Intercept</th>     <td>   -0.5783</td> <td>    0.008</td> <td>  -74.038</td> <td> 0.000</td> <td>   -0.594</td> <td>   -0.563</td>\n",
              "</tr>\n",
              "<tr>\n",
              "  <th>txn</th>           <td>   -0.0087</td> <td>    0.000</td> <td>  -25.556</td> <td> 0.000</td> <td>   -0.009</td> <td>   -0.008</td>\n",
              "</tr>\n",
              "<tr>\n",
              "  <th>fee</th>           <td>   39.3814</td> <td>    0.479</td> <td>   82.249</td> <td> 0.000</td> <td>   38.442</td> <td>   40.320</td>\n",
              "</tr>\n",
              "<tr>\n",
              "  <th>search_trends</th> <td>  126.2339</td> <td>    1.532</td> <td>   82.379</td> <td> 0.000</td> <td>  123.229</td> <td>  129.239</td>\n",
              "</tr>\n",
              "<tr>\n",
              "  <th>index</th>         <td> 2.754e-07</td> <td> 1.11e-08</td> <td>   24.861</td> <td> 0.000</td> <td> 2.54e-07</td> <td> 2.97e-07</td>\n",
              "</tr>\n",
              "<tr>\n",
              "  <th>oil_price</th>     <td>   16.0604</td> <td>    1.986</td> <td>    8.086</td> <td> 0.000</td> <td>   12.165</td> <td>   19.956</td>\n",
              "</tr>\n",
              "<tr>\n",
              "  <th>block_size</th>    <td> 2.164e-13</td> <td> 2.75e-14</td> <td>    7.858</td> <td> 0.000</td> <td> 1.62e-13</td> <td>  2.7e-13</td>\n",
              "</tr>\n",
              "<tr>\n",
              "  <th>repo_rate</th>     <td>   -5.8865</td> <td>    0.382</td> <td>  -15.394</td> <td> 0.000</td> <td>   -6.637</td> <td>   -5.137</td>\n",
              "</tr>\n",
              "</table>\n",
              "<table class=\"simpletable\">\n",
              "<tr>\n",
              "  <th>Omnibus:</th>       <td>589.199</td> <th>  Durbin-Watson:     </th> <td>   0.200</td>\n",
              "</tr>\n",
              "<tr>\n",
              "  <th>Prob(Omnibus):</th> <td> 0.000</td>  <th>  Jarque-Bera (JB):  </th> <td>5531.412</td>\n",
              "</tr>\n",
              "<tr>\n",
              "  <th>Skew:</th>          <td> 1.259</td>  <th>  Prob(JB):          </th> <td>    0.00</td>\n",
              "</tr>\n",
              "<tr>\n",
              "  <th>Kurtosis:</th>      <td>11.213</td>  <th>  Cond. No.          </th> <td>3.93e+16</td>\n",
              "</tr>\n",
              "</table><br/><br/>Warnings:<br/>[1] Standard Errors assume that the covariance matrix of the errors is correctly specified.<br/>[2] The condition number is large, 3.93e+16. This might indicate that there are<br/>strong multicollinearity or other numerical problems."
            ],
            "text/plain": [
              "<class 'statsmodels.iolib.summary.Summary'>\n",
              "\"\"\"\n",
              "                            OLS Regression Results                            \n",
              "==============================================================================\n",
              "Dep. Variable:                  price   R-squared:                       0.930\n",
              "Model:                            OLS   Adj. R-squared:                  0.930\n",
              "Method:                 Least Squares   F-statistic:                     4798.\n",
              "Date:                Sat, 24 Apr 2021   Prob (F-statistic):               0.00\n",
              "Time:                        16:49:25   Log-Likelihood:                -14852.\n",
              "No. Observations:                1799   AIC:                         2.972e+04\n",
              "Df Residuals:                    1793   BIC:                         2.975e+04\n",
              "Df Model:                           5                                         \n",
              "Covariance Type:            nonrobust                                         \n",
              "=================================================================================\n",
              "                    coef    std err          t      P>|t|      [0.025      0.975]\n",
              "---------------------------------------------------------------------------------\n",
              "Intercept        -0.5783      0.008    -74.038      0.000      -0.594      -0.563\n",
              "txn              -0.0087      0.000    -25.556      0.000      -0.009      -0.008\n",
              "fee              39.3814      0.479     82.249      0.000      38.442      40.320\n",
              "search_trends   126.2339      1.532     82.379      0.000     123.229     129.239\n",
              "index          2.754e-07   1.11e-08     24.861      0.000    2.54e-07    2.97e-07\n",
              "oil_price        16.0604      1.986      8.086      0.000      12.165      19.956\n",
              "block_size     2.164e-13   2.75e-14      7.858      0.000    1.62e-13     2.7e-13\n",
              "repo_rate        -5.8865      0.382    -15.394      0.000      -6.637      -5.137\n",
              "==============================================================================\n",
              "Omnibus:                      589.199   Durbin-Watson:                   0.200\n",
              "Prob(Omnibus):                  0.000   Jarque-Bera (JB):             5531.412\n",
              "Skew:                           1.259   Prob(JB):                         0.00\n",
              "Kurtosis:                      11.213   Cond. No.                     3.93e+16\n",
              "==============================================================================\n",
              "\n",
              "Warnings:\n",
              "[1] Standard Errors assume that the covariance matrix of the errors is correctly specified.\n",
              "[2] The condition number is large, 3.93e+16. This might indicate that there are\n",
              "strong multicollinearity or other numerical problems.\n",
              "\"\"\""
            ]
          },
          "metadata": {
            "tags": []
          },
          "execution_count": 188
        }
      ]
    },
    {
      "cell_type": "code",
      "metadata": {
        "id": "5DBF1trP65BG"
      },
      "source": [
        "df = df.reset_index()"
      ],
      "execution_count": null,
      "outputs": []
    },
    {
      "cell_type": "code",
      "metadata": {
        "colab": {
          "base_uri": "https://localhost:8080/",
          "height": 325
        },
        "id": "WKPrWrj77E1G",
        "outputId": "ac7b04d2-8f9e-4534-ba9d-f94be0815c0d"
      },
      "source": [
        "fig = plt.figure()\n",
        "plt.plot(df.Date, df.price)\n",
        "plt.suptitle(\"Bitcoin Price in USD\")\n",
        "plt.xlabel(\"Year\")\n",
        "plt.ylabel(\"Price\")"
      ],
      "execution_count": null,
      "outputs": [
        {
          "output_type": "execute_result",
          "data": {
            "text/plain": [
              "Text(0, 0.5, 'Price')"
            ]
          },
          "metadata": {
            "tags": []
          },
          "execution_count": 222
        },
        {
          "output_type": "display_data",
          "data": {
            "image/png": "[encoded data removed]",
            "text/plain": [
              "<Figure size 432x288 with 1 Axes>"
            ]
          },
          "metadata": {
            "tags": [],
            "needs_background": "light"
          }
        }
      ]
    },
    {
      "cell_type": "code",
      "metadata": {
        "colab": {
          "base_uri": "https://localhost:8080/",
          "height": 325
        },
        "id": "V_UiRg4Z7Kwl",
        "outputId": "aec55ab3-f7b4-42b4-a86e-c7a789fa36e5"
      },
      "source": [
        "fig = plt.figure()\n",
        "plt.plot(df.Date, df.block_size)\n",
        "plt.suptitle(\"Block Size^3 vs Year\")\n",
        "plt.xlabel(\"Year\")\n",
        "plt.ylabel(\"Block Size ^3\")"
      ],
      "execution_count": null,
      "outputs": [
        {
          "output_type": "execute_result",
          "data": {
            "text/plain": [
              "Text(0, 0.5, 'Block Size ^3')"
            ]
          },
          "metadata": {
            "tags": []
          },
          "execution_count": 228
        },
        {
          "output_type": "display_data",
          "data": {
            "image/png": "[encoded data removed]",
            "text/plain": [
              "<Figure size 432x288 with 1 Axes>"
            ]
          },
          "metadata": {
            "tags": [],
            "needs_background": "light"
          }
        }
      ]
    },
    {
      "cell_type": "code",
      "metadata": {
        "colab": {
          "base_uri": "https://localhost:8080/",
          "height": 325
        },
        "id": "PZmddle-7T0o",
        "outputId": "343adb5e-0d44-4a94-e418-1019d0ae1d2d"
      },
      "source": [
        "fig = plt.figure()\n",
        "plt.plot(df.Date, df['n-transactions'])\n",
        "plt.suptitle(\"Number of transactions vs. Year\")\n",
        "plt.xlabel(\"Year\")\n",
        "plt.ylabel(\"Number of transactions\")"
      ],
      "execution_count": null,
      "outputs": [
        {
          "output_type": "execute_result",
          "data": {
            "text/plain": [
              "Text(0, 0.5, 'Number of transactions')"
            ]
          },
          "metadata": {
            "tags": []
          },
          "execution_count": 229
        },
        {
          "output_type": "display_data",
          "data": {
            "image/png": "[encoded data removed]",
            "text/plain": [
              "<Figure size 432x288 with 1 Axes>"
            ]
          },
          "metadata": {
            "tags": [],
            "needs_background": "light"
          }
        }
      ]
    },
    {
      "cell_type": "code",
      "metadata": {
        "colab": {
          "base_uri": "https://localhost:8080/",
          "height": 325
        },
        "id": "e22PGB6a7-Q_",
        "outputId": "9b4a759c-ff5f-456d-89d0-a41db8dc169f"
      },
      "source": [
        "fig = plt.figure()\n",
        "plt.plot(df.Date, df.oil_price)\n",
        "plt.suptitle(\"Oil Price vs. Year\")\n",
        "plt.xlabel(\"Year\")\n",
        "plt.ylabel(\"Oil Price\")"
      ],
      "execution_count": null,
      "outputs": [
        {
          "output_type": "execute_result",
          "data": {
            "text/plain": [
              "Text(0, 0.5, 'Oil Price')"
            ]
          },
          "metadata": {
            "tags": []
          },
          "execution_count": 232
        },
        {
          "output_type": "display_data",
          "data": {
            "image/png": "[encoded data removed]",
            "text/plain": [
              "<Figure size 432x288 with 1 Axes>"
            ]
          },
          "metadata": {
            "tags": [],
            "needs_background": "light"
          }
        }
      ]
    },
    {
      "cell_type": "code",
      "metadata": {
        "colab": {
          "base_uri": "https://localhost:8080/",
          "height": 232
        },
        "id": "-aGMsuYv3cfJ",
        "outputId": "5f32d727-3a35-4dff-d5e8-eaca14b63354"
      },
      "source": [
        "df = df.resample('M').mean()\n",
        "plt.figure(figsize=[15,7])\n",
        "sm.tsa.seasonal_decompose(df.price).plot()\n",
        "print(\"Dickey–Fuller test: p=%f\" % sm.tsa.stattools.adfuller(df.price)[1])\n",
        "plt.show()"
      ],
      "execution_count": null,
      "outputs": [
        {
          "output_type": "error",
          "ename": "NameError",
          "evalue": "ignored",
          "traceback": [
            "\u001b[0;31m---------------------------------------------------------------------------\u001b[0m",
            "\u001b[0;31mNameError\u001b[0m                                 Traceback (most recent call last)",
            "\u001b[0;32m<ipython-input-2-efa4dcfbc11a>\u001b[0m in \u001b[0;36m<module>\u001b[0;34m()\u001b[0m\n\u001b[0;32m----> 1\u001b[0;31m \u001b[0mdf\u001b[0m \u001b[0;34m=\u001b[0m \u001b[0mdf\u001b[0m\u001b[0;34m.\u001b[0m\u001b[0mresample\u001b[0m\u001b[0;34m(\u001b[0m\u001b[0;34m'M'\u001b[0m\u001b[0;34m)\u001b[0m\u001b[0;34m.\u001b[0m\u001b[0mmean\u001b[0m\u001b[0;34m(\u001b[0m\u001b[0;34m)\u001b[0m\u001b[0;34m\u001b[0m\u001b[0;34m\u001b[0m\u001b[0m\n\u001b[0m\u001b[1;32m      2\u001b[0m \u001b[0mplt\u001b[0m\u001b[0;34m.\u001b[0m\u001b[0mfigure\u001b[0m\u001b[0;34m(\u001b[0m\u001b[0mfigsize\u001b[0m\u001b[0;34m=\u001b[0m\u001b[0;34m[\u001b[0m\u001b[0;36m15\u001b[0m\u001b[0;34m,\u001b[0m\u001b[0;36m7\u001b[0m\u001b[0;34m]\u001b[0m\u001b[0;34m)\u001b[0m\u001b[0;34m\u001b[0m\u001b[0;34m\u001b[0m\u001b[0m\n\u001b[1;32m      3\u001b[0m \u001b[0msm\u001b[0m\u001b[0;34m.\u001b[0m\u001b[0mtsa\u001b[0m\u001b[0;34m.\u001b[0m\u001b[0mseasonal_decompose\u001b[0m\u001b[0;34m(\u001b[0m\u001b[0mdf\u001b[0m\u001b[0;34m.\u001b[0m\u001b[0mprice\u001b[0m\u001b[0;34m)\u001b[0m\u001b[0;34m.\u001b[0m\u001b[0mplot\u001b[0m\u001b[0;34m(\u001b[0m\u001b[0;34m)\u001b[0m\u001b[0;34m\u001b[0m\u001b[0;34m\u001b[0m\u001b[0m\n\u001b[1;32m      4\u001b[0m \u001b[0mprint\u001b[0m\u001b[0;34m(\u001b[0m\u001b[0;34m\"Dickey–Fuller test: p=%f\"\u001b[0m \u001b[0;34m%\u001b[0m \u001b[0msm\u001b[0m\u001b[0;34m.\u001b[0m\u001b[0mtsa\u001b[0m\u001b[0;34m.\u001b[0m\u001b[0mstattools\u001b[0m\u001b[0;34m.\u001b[0m\u001b[0madfuller\u001b[0m\u001b[0;34m(\u001b[0m\u001b[0mdf\u001b[0m\u001b[0;34m.\u001b[0m\u001b[0mprice\u001b[0m\u001b[0;34m)\u001b[0m\u001b[0;34m[\u001b[0m\u001b[0;36m1\u001b[0m\u001b[0;34m]\u001b[0m\u001b[0;34m)\u001b[0m\u001b[0;34m\u001b[0m\u001b[0;34m\u001b[0m\u001b[0m\n\u001b[1;32m      5\u001b[0m \u001b[0mplt\u001b[0m\u001b[0;34m.\u001b[0m\u001b[0mshow\u001b[0m\u001b[0;34m(\u001b[0m\u001b[0;34m)\u001b[0m\u001b[0;34m\u001b[0m\u001b[0;34m\u001b[0m\u001b[0m\n",
            "\u001b[0;31mNameError\u001b[0m: name 'df' is not defined"
          ]
        }
      ]
    },
    {
      "cell_type": "code",
      "metadata": {
        "id": "p0wPbc0c4Tiq"
      },
      "source": [
        ""
      ],
      "execution_count": null,
      "outputs": []
    }
  ]
}